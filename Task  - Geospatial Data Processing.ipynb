{
 "cells": [
  {
   "cell_type": "markdown",
   "id": "02cd94a0-7c53-4668-8f72-5a3dad1a4010",
   "metadata": {},
   "source": [
    "I chose Task 2 because it aligns with my expertise in geospatial analysis and GEE. "
   ]
  },
  {
   "cell_type": "markdown",
   "id": "c958205f-2aaa-4c18-b866-7f2a17debc99",
   "metadata": {},
   "source": [
    "I will use GEEMAP which is a python package for inyteractive mapping with Google Earth Engine"
   ]
  },
  {
   "cell_type": "code",
   "execution_count": 1,
   "id": "f11f7e1b-2bab-4036-8012-20ba432454c5",
   "metadata": {},
   "outputs": [],
   "source": [
    "import ee\n",
    "import geemap\n",
    "import geopandas as gpd\n",
    "import xarray as xr\n",
    "import rioxarray\n",
    "import numpy as np\n",
    "import pandas as pd"
   ]
  },
  {
   "cell_type": "code",
   "execution_count": 2,
   "id": "01cefd60-30eb-4c0d-999b-0027a321feb4",
   "metadata": {},
   "outputs": [
    {
     "data": {
      "text/html": [
       "\n",
       "            <style>\n",
       "                .geemap-dark {\n",
       "                    --jp-widgets-color: white;\n",
       "                    --jp-widgets-label-color: white;\n",
       "                    --jp-ui-font-color1: white;\n",
       "                    --jp-layout-color2: #454545;\n",
       "                    background-color: #383838;\n",
       "                }\n",
       "\n",
       "                .geemap-dark .jupyter-button {\n",
       "                    --jp-layout-color3: #383838;\n",
       "                }\n",
       "\n",
       "                .geemap-colab {\n",
       "                    background-color: var(--colab-primary-surface-color, white);\n",
       "                }\n",
       "\n",
       "                .geemap-colab .jupyter-button {\n",
       "                    --jp-layout-color3: var(--colab-primary-surface-color, white);\n",
       "                }\n",
       "            </style>\n",
       "            "
      ],
      "text/plain": [
       "<IPython.core.display.HTML object>"
      ]
     },
     "metadata": {},
     "output_type": "display_data"
    }
   ],
   "source": [
    "# Initialize Earth Engine\n",
    "try:\n",
    "    ee.Initialize()\n",
    "except Exception as e:\n",
    "    ee.Authenticate()\n",
    "    ee.Initialize()"
   ]
  },
  {
   "cell_type": "markdown",
   "id": "749c9723-f0a6-44f6-8e22-707ecfdb4e09",
   "metadata": {},
   "source": [
    "Used the coordinates that were provided:"
   ]
  },
  {
   "cell_type": "code",
   "execution_count": 3,
   "id": "b5e36760-ad58-4588-91fc-13acaf225eb6",
   "metadata": {},
   "outputs": [
    {
     "data": {
      "text/html": [
       "\n",
       "            <style>\n",
       "                .geemap-dark {\n",
       "                    --jp-widgets-color: white;\n",
       "                    --jp-widgets-label-color: white;\n",
       "                    --jp-ui-font-color1: white;\n",
       "                    --jp-layout-color2: #454545;\n",
       "                    background-color: #383838;\n",
       "                }\n",
       "\n",
       "                .geemap-dark .jupyter-button {\n",
       "                    --jp-layout-color3: #383838;\n",
       "                }\n",
       "\n",
       "                .geemap-colab {\n",
       "                    background-color: var(--colab-primary-surface-color, white);\n",
       "                }\n",
       "\n",
       "                .geemap-colab .jupyter-button {\n",
       "                    --jp-layout-color3: var(--colab-primary-surface-color, white);\n",
       "                }\n",
       "            </style>\n",
       "            "
      ],
      "text/plain": [
       "<IPython.core.display.HTML object>"
      ]
     },
     "metadata": {},
     "output_type": "display_data"
    }
   ],
   "source": [
    "# Define AOI\n",
    "AOI = ee.Geometry.Polygon([\n",
    "    [\n",
    "        [36.306872504019424, -0.5952725839718056],\n",
    "        [36.306872504019424, -0.7423752404067301],\n",
    "        [36.45206844566468, -0.7423752404067301],\n",
    "        [36.45206844566468, -0.5952725839718056],\n",
    "        [36.306872504019424, -0.5952725839718056]\n",
    "    ]\n",
    "])"
   ]
  },
  {
   "cell_type": "code",
   "execution_count": 4,
   "id": "b37b5b0d-c098-41b4-be4f-4d6d2f95839b",
   "metadata": {},
   "outputs": [
    {
     "data": {
      "text/html": [
       "\n",
       "            <style>\n",
       "                .geemap-dark {\n",
       "                    --jp-widgets-color: white;\n",
       "                    --jp-widgets-label-color: white;\n",
       "                    --jp-ui-font-color1: white;\n",
       "                    --jp-layout-color2: #454545;\n",
       "                    background-color: #383838;\n",
       "                }\n",
       "\n",
       "                .geemap-dark .jupyter-button {\n",
       "                    --jp-layout-color3: #383838;\n",
       "                }\n",
       "\n",
       "                .geemap-colab {\n",
       "                    background-color: var(--colab-primary-surface-color, white);\n",
       "                }\n",
       "\n",
       "                .geemap-colab .jupyter-button {\n",
       "                    --jp-layout-color3: var(--colab-primary-surface-color, white);\n",
       "                }\n",
       "            </style>\n",
       "            "
      ],
      "text/plain": [
       "<IPython.core.display.HTML object>"
      ]
     },
     "metadata": {},
     "output_type": "display_data"
    },
    {
     "data": {
      "application/vnd.jupyter.widget-view+json": {
       "model_id": "307e4b9656ff40ef8d516c54f116f027",
       "version_major": 2,
       "version_minor": 0
      },
      "text/plain": [
       "Map(center=[-0.6688240816217108, 36.37947047484175], controls=(WidgetControl(options=['position', 'transparent…"
      ]
     },
     "execution_count": 4,
     "metadata": {},
     "output_type": "execute_result"
    }
   ],
   "source": [
    "# Create map and adding our region of intrest\n",
    "Map = geemap.Map()\n",
    "Map.centerObject(AOI, 12)\n",
    "Map.addLayer(AOI, {'color': 'red'}, 'AOI')\n",
    "Map"
   ]
  },
  {
   "cell_type": "code",
   "execution_count": 5,
   "id": "93d86c32-956e-4aba-9fbb-212a83405a1c",
   "metadata": {},
   "outputs": [
    {
     "data": {
      "text/html": [
       "\n",
       "            <style>\n",
       "                .geemap-dark {\n",
       "                    --jp-widgets-color: white;\n",
       "                    --jp-widgets-label-color: white;\n",
       "                    --jp-ui-font-color1: white;\n",
       "                    --jp-layout-color2: #454545;\n",
       "                    background-color: #383838;\n",
       "                }\n",
       "\n",
       "                .geemap-dark .jupyter-button {\n",
       "                    --jp-layout-color3: #383838;\n",
       "                }\n",
       "\n",
       "                .geemap-colab {\n",
       "                    background-color: var(--colab-primary-surface-color, white);\n",
       "                }\n",
       "\n",
       "                .geemap-colab .jupyter-button {\n",
       "                    --jp-layout-color3: var(--colab-primary-surface-color, white);\n",
       "                }\n",
       "            </style>\n",
       "            "
      ],
      "text/plain": [
       "<IPython.core.display.HTML object>"
      ]
     },
     "metadata": {},
     "output_type": "display_data"
    }
   ],
   "source": [
    "# Define time range (last 3 months)\n",
    "end_date = ee.Date(\"2025-02-28\")\n",
    "start_date = end_date.advance(-3, 'month')"
   ]
  },
  {
   "cell_type": "code",
   "execution_count": 6,
   "id": "f39da1d8-38a6-438f-96b2-6deb3465f2bb",
   "metadata": {},
   "outputs": [
    {
     "data": {
      "text/html": [
       "\n",
       "            <style>\n",
       "                .geemap-dark {\n",
       "                    --jp-widgets-color: white;\n",
       "                    --jp-widgets-label-color: white;\n",
       "                    --jp-ui-font-color1: white;\n",
       "                    --jp-layout-color2: #454545;\n",
       "                    background-color: #383838;\n",
       "                }\n",
       "\n",
       "                .geemap-dark .jupyter-button {\n",
       "                    --jp-layout-color3: #383838;\n",
       "                }\n",
       "\n",
       "                .geemap-colab {\n",
       "                    background-color: var(--colab-primary-surface-color, white);\n",
       "                }\n",
       "\n",
       "                .geemap-colab .jupyter-button {\n",
       "                    --jp-layout-color3: var(--colab-primary-surface-color, white);\n",
       "                }\n",
       "            </style>\n",
       "            "
      ],
      "text/plain": [
       "<IPython.core.display.HTML object>"
      ]
     },
     "metadata": {},
     "output_type": "display_data"
    },
    {
     "data": {
      "application/vnd.jupyter.widget-view+json": {
       "model_id": "307e4b9656ff40ef8d516c54f116f027",
       "version_major": 2,
       "version_minor": 0
      },
      "text/plain": [
       "Map(center=[-0.6688240816217108, 36.37947047484175], controls=(WidgetControl(options=['position', 'transparent…"
      ]
     },
     "execution_count": 6,
     "metadata": {},
     "output_type": "execute_result"
    }
   ],
   "source": [
    "# Fetch and clip Sentinel-1 VV and VH\n",
    "s1 = ee.ImageCollection('COPERNICUS/S1_GRD')\\\n",
    "    .filterBounds(AOI)\\\n",
    "    .filterDate(start_date, end_date)\\\n",
    "    .filter(ee.Filter.listContains('transmitterReceiverPolarisation', 'VV'))\\\n",
    "    .filter(ee.Filter.listContains('transmitterReceiverPolarisation', 'VH'))\\\n",
    "    .select(['VV', 'VH'])\\\n",
    "    .mean()\\\n",
    "    .clip(AOI)  # Clip to AOI\n",
    "\n",
    "Map.addLayer(s1.select('VV'), {'min': -25, 'max': 0}, 'Sentinel-1 VV')\n",
    "Map.addLayer(s1.select('VH'), {'min': -25, 'max': 0}, 'Sentinel-1 VH')\n",
    "Map"
   ]
  },
  {
   "cell_type": "code",
   "execution_count": 7,
   "id": "42c7ecfc-66f4-4505-a28c-efd09f296bc7",
   "metadata": {},
   "outputs": [
    {
     "data": {
      "text/html": [
       "\n",
       "            <style>\n",
       "                .geemap-dark {\n",
       "                    --jp-widgets-color: white;\n",
       "                    --jp-widgets-label-color: white;\n",
       "                    --jp-ui-font-color1: white;\n",
       "                    --jp-layout-color2: #454545;\n",
       "                    background-color: #383838;\n",
       "                }\n",
       "\n",
       "                .geemap-dark .jupyter-button {\n",
       "                    --jp-layout-color3: #383838;\n",
       "                }\n",
       "\n",
       "                .geemap-colab {\n",
       "                    background-color: var(--colab-primary-surface-color, white);\n",
       "                }\n",
       "\n",
       "                .geemap-colab .jupyter-button {\n",
       "                    --jp-layout-color3: var(--colab-primary-surface-color, white);\n",
       "                }\n",
       "            </style>\n",
       "            "
      ],
      "text/plain": [
       "<IPython.core.display.HTML object>"
      ]
     },
     "metadata": {},
     "output_type": "display_data"
    },
    {
     "data": {
      "application/vnd.jupyter.widget-view+json": {
       "model_id": "307e4b9656ff40ef8d516c54f116f027",
       "version_major": 2,
       "version_minor": 0
      },
      "text/plain": [
       "Map(center=[-0.6688240816217108, 36.37947047484175], controls=(WidgetControl(options=['position', 'transparent…"
      ]
     },
     "execution_count": 7,
     "metadata": {},
     "output_type": "execute_result"
    }
   ],
   "source": [
    "# Fetch and clip Sentinel-2 NDVI\n",
    "s2 = ee.ImageCollection('COPERNICUS/S2_SR')\\\n",
    "    .filterBounds(AOI)\\\n",
    "    .filterDate(start_date, end_date)\\\n",
    "    .map(lambda img: img.normalizedDifference(['B8', 'B4']).rename('NDVI'))\\\n",
    "    .mean()\\\n",
    "    .clip(AOI)  # Clip to AOI\n",
    "\n",
    "Map.addLayer(s2, {'min': 0, 'max': 1, 'palette': ['red', 'yellow', 'green']}, 'Sentinel-2 NDVI')\n",
    "Map"
   ]
  },
  {
   "cell_type": "code",
   "execution_count": 8,
   "id": "9a3389f1-d293-42a9-9a6f-94fa4de861c7",
   "metadata": {},
   "outputs": [
    {
     "data": {
      "text/html": [
       "\n",
       "            <style>\n",
       "                .geemap-dark {\n",
       "                    --jp-widgets-color: white;\n",
       "                    --jp-widgets-label-color: white;\n",
       "                    --jp-ui-font-color1: white;\n",
       "                    --jp-layout-color2: #454545;\n",
       "                    background-color: #383838;\n",
       "                }\n",
       "\n",
       "                .geemap-dark .jupyter-button {\n",
       "                    --jp-layout-color3: #383838;\n",
       "                }\n",
       "\n",
       "                .geemap-colab {\n",
       "                    background-color: var(--colab-primary-surface-color, white);\n",
       "                }\n",
       "\n",
       "                .geemap-colab .jupyter-button {\n",
       "                    --jp-layout-color3: var(--colab-primary-surface-color, white);\n",
       "                }\n",
       "            </style>\n",
       "            "
      ],
      "text/plain": [
       "<IPython.core.display.HTML object>"
      ]
     },
     "metadata": {},
     "output_type": "display_data"
    },
    {
     "data": {
      "application/vnd.jupyter.widget-view+json": {
       "model_id": "307e4b9656ff40ef8d516c54f116f027",
       "version_major": 2,
       "version_minor": 0
      },
      "text/plain": [
       "Map(center=[-0.6688240816217108, 36.37947047484175], controls=(WidgetControl(options=['position', 'transparent…"
      ]
     },
     "execution_count": 8,
     "metadata": {},
     "output_type": "execute_result"
    }
   ],
   "source": [
    "# Fetch and clip ERA5 Temperature Data\n",
    "era5 = ee.ImageCollection('ECMWF/ERA5_LAND/HOURLY')\\\n",
    "    .filterDate('2023-11-01', '2024-02-01')\\\n",
    "    .select('temperature_2m')\\\n",
    "    .map(lambda img: img.set('system:time_start', img.date().millis()))\\\n",
    "    .reduce(ee.Reducer.mean())\\\n",
    "    .clip(AOI)  # Clip to AOI\n",
    "\n",
    "Map.addLayer(era5, {'min': 280, 'max': 310, 'palette': ['blue', 'purple', 'red']}, 'Temperature')\n",
    "Map"
   ]
  },
  {
   "cell_type": "code",
   "execution_count": 9,
   "id": "526dd242-b06a-49d7-9d48-1b9584ad0270",
   "metadata": {},
   "outputs": [
    {
     "data": {
      "text/html": [
       "\n",
       "            <style>\n",
       "                .geemap-dark {\n",
       "                    --jp-widgets-color: white;\n",
       "                    --jp-widgets-label-color: white;\n",
       "                    --jp-ui-font-color1: white;\n",
       "                    --jp-layout-color2: #454545;\n",
       "                    background-color: #383838;\n",
       "                }\n",
       "\n",
       "                .geemap-dark .jupyter-button {\n",
       "                    --jp-layout-color3: #383838;\n",
       "                }\n",
       "\n",
       "                .geemap-colab {\n",
       "                    background-color: var(--colab-primary-surface-color, white);\n",
       "                }\n",
       "\n",
       "                .geemap-colab .jupyter-button {\n",
       "                    --jp-layout-color3: var(--colab-primary-surface-color, white);\n",
       "                }\n",
       "            </style>\n",
       "            "
      ],
      "text/plain": [
       "<IPython.core.display.HTML object>"
      ]
     },
     "metadata": {},
     "output_type": "display_data"
    },
    {
     "data": {
      "application/vnd.jupyter.widget-view+json": {
       "model_id": "307e4b9656ff40ef8d516c54f116f027",
       "version_major": 2,
       "version_minor": 0
      },
      "text/plain": [
       "Map(center=[-0.6688240816217108, 36.37947047484175], controls=(WidgetControl(options=['position', 'transparent…"
      ]
     },
     "execution_count": 9,
     "metadata": {},
     "output_type": "execute_result"
    }
   ],
   "source": [
    "# Load SRTM Elevation\n",
    "elevation = ee.Image('USGS/SRTMGL1_003').clip(AOI)\n",
    "Map.addLayer(elevation, {'min': 0, 'max': 3000, 'palette': ['blue', 'green', 'brown']}, 'Elevation')\n",
    "\n",
    "# Display the map\n",
    "Map"
   ]
  },
  {
   "cell_type": "code",
   "execution_count": 10,
   "id": "65f66613-b02b-488e-a164-f0027953c626",
   "metadata": {},
   "outputs": [
    {
     "data": {
      "text/html": [
       "\n",
       "            <style>\n",
       "                .geemap-dark {\n",
       "                    --jp-widgets-color: white;\n",
       "                    --jp-widgets-label-color: white;\n",
       "                    --jp-ui-font-color1: white;\n",
       "                    --jp-layout-color2: #454545;\n",
       "                    background-color: #383838;\n",
       "                }\n",
       "\n",
       "                .geemap-dark .jupyter-button {\n",
       "                    --jp-layout-color3: #383838;\n",
       "                }\n",
       "\n",
       "                .geemap-colab {\n",
       "                    background-color: var(--colab-primary-surface-color, white);\n",
       "                }\n",
       "\n",
       "                .geemap-colab .jupyter-button {\n",
       "                    --jp-layout-color3: var(--colab-primary-surface-color, white);\n",
       "                }\n",
       "            </style>\n",
       "            "
      ],
      "text/plain": [
       "<IPython.core.display.HTML object>"
      ]
     },
     "metadata": {},
     "output_type": "display_data"
    }
   ],
   "source": [
    "def resample_to_10m(img):\n",
    "    s2_proj = ee.ImageCollection('COPERNICUS/S2_SR').first().select('B4').projection()  # Get projection from first image\n",
    "    return img.resample('bilinear').reproject(crs=s2_proj, scale=10)\n",
    "\n",
    "s1 = resample_to_10m(s1)\n",
    "s2 = resample_to_10m(s2)\n",
    "era5 = resample_to_10m(era5)\n",
    "elevation = resample_to_10m(elevation)"
   ]
  },
  {
   "cell_type": "code",
   "execution_count": 11,
   "id": "e23d8ace-ca97-4cda-b052-6e49919df51f",
   "metadata": {},
   "outputs": [
    {
     "data": {
      "text/html": [
       "\n",
       "            <style>\n",
       "                .geemap-dark {\n",
       "                    --jp-widgets-color: white;\n",
       "                    --jp-widgets-label-color: white;\n",
       "                    --jp-ui-font-color1: white;\n",
       "                    --jp-layout-color2: #454545;\n",
       "                    background-color: #383838;\n",
       "                }\n",
       "\n",
       "                .geemap-dark .jupyter-button {\n",
       "                    --jp-layout-color3: #383838;\n",
       "                }\n",
       "\n",
       "                .geemap-colab {\n",
       "                    background-color: var(--colab-primary-surface-color, white);\n",
       "                }\n",
       "\n",
       "                .geemap-colab .jupyter-button {\n",
       "                    --jp-layout-color3: var(--colab-primary-surface-color, white);\n",
       "                }\n",
       "            </style>\n",
       "            "
      ],
      "text/plain": [
       "<IPython.core.display.HTML object>"
      ]
     },
     "metadata": {},
     "output_type": "display_data"
    },
    {
     "name": "stdout",
     "output_type": "stream",
     "text": [
      "<class 'ee.image.Image'>\n",
      "<class 'ee.image.Image'>\n",
      "<class 'ee.image.Image'>\n",
      "<class 'ee.image.Image'>\n"
     ]
    }
   ],
   "source": [
    "print(type(s1))\n",
    "print(type(s2))\n",
    "print(type(era5))\n",
    "print(type(elevation))"
   ]
  },
  {
   "cell_type": "code",
   "execution_count": 12,
   "id": "00fd45c2-5e24-4e91-a78c-79a66c978bc7",
   "metadata": {},
   "outputs": [
    {
     "data": {
      "text/html": [
       "\n",
       "            <style>\n",
       "                .geemap-dark {\n",
       "                    --jp-widgets-color: white;\n",
       "                    --jp-widgets-label-color: white;\n",
       "                    --jp-ui-font-color1: white;\n",
       "                    --jp-layout-color2: #454545;\n",
       "                    background-color: #383838;\n",
       "                }\n",
       "\n",
       "                .geemap-dark .jupyter-button {\n",
       "                    --jp-layout-color3: #383838;\n",
       "                }\n",
       "\n",
       "                .geemap-colab {\n",
       "                    background-color: var(--colab-primary-surface-color, white);\n",
       "                }\n",
       "\n",
       "                .geemap-colab .jupyter-button {\n",
       "                    --jp-layout-color3: var(--colab-primary-surface-color, white);\n",
       "                }\n",
       "            </style>\n",
       "            "
      ],
      "text/plain": [
       "<IPython.core.display.HTML object>"
      ]
     },
     "metadata": {},
     "output_type": "display_data"
    },
    {
     "name": "stdout",
     "output_type": "stream",
     "text": [
      "S1 Projection: {'type': 'Projection', 'crs': 'EPSG:32635', 'transform': [10, 0, 499980, 0, 10, 3000000]}\n",
      "S2 Projection: {'type': 'Projection', 'crs': 'EPSG:32635', 'transform': [10, 0, 499980, 0, 10, 3000000]}\n",
      "ERA5 Projection: {'type': 'Projection', 'crs': 'EPSG:32635', 'transform': [10, 0, 499980, 0, 10, 3000000]}\n",
      "Elevation Projection: {'type': 'Projection', 'crs': 'EPSG:32635', 'transform': [10, 0, 499980, 0, 10, 3000000]}\n"
     ]
    }
   ],
   "source": [
    "print('S1 Projection:', s1.projection().getInfo())\n",
    "print('S2 Projection:', s2.projection().getInfo())\n",
    "print('ERA5 Projection:', era5.projection().getInfo())\n",
    "print('Elevation Projection:', elevation.projection().getInfo())"
   ]
  },
  {
   "cell_type": "code",
   "execution_count": 13,
   "id": "fcc7662f-5159-4bd1-80fa-a599dc80322f",
   "metadata": {},
   "outputs": [
    {
     "data": {
      "text/html": [
       "\n",
       "            <style>\n",
       "                .geemap-dark {\n",
       "                    --jp-widgets-color: white;\n",
       "                    --jp-widgets-label-color: white;\n",
       "                    --jp-ui-font-color1: white;\n",
       "                    --jp-layout-color2: #454545;\n",
       "                    background-color: #383838;\n",
       "                }\n",
       "\n",
       "                .geemap-dark .jupyter-button {\n",
       "                    --jp-layout-color3: #383838;\n",
       "                }\n",
       "\n",
       "                .geemap-colab {\n",
       "                    background-color: var(--colab-primary-surface-color, white);\n",
       "                }\n",
       "\n",
       "                .geemap-colab .jupyter-button {\n",
       "                    --jp-layout-color3: var(--colab-primary-surface-color, white);\n",
       "                }\n",
       "            </style>\n",
       "            "
      ],
      "text/plain": [
       "<IPython.core.display.HTML object>"
      ]
     },
     "metadata": {},
     "output_type": "display_data"
    },
    {
     "name": "stdout",
     "output_type": "stream",
     "text": [
      "['VV', 'VH']\n",
      "['NDVI']\n",
      "['temperature_2m_mean']\n",
      "['elevation']\n"
     ]
    }
   ],
   "source": [
    "print(s1.bandNames().getInfo())\n",
    "print(s2.bandNames().getInfo())\n",
    "print(era5.bandNames().getInfo())\n",
    "print(elevation.bandNames().getInfo())"
   ]
  },
  {
   "cell_type": "code",
   "execution_count": 14,
   "id": "94ff3e62-cf19-47b1-a089-b2679cefd7d8",
   "metadata": {},
   "outputs": [
    {
     "data": {
      "text/html": [
       "\n",
       "            <style>\n",
       "                .geemap-dark {\n",
       "                    --jp-widgets-color: white;\n",
       "                    --jp-widgets-label-color: white;\n",
       "                    --jp-ui-font-color1: white;\n",
       "                    --jp-layout-color2: #454545;\n",
       "                    background-color: #383838;\n",
       "                }\n",
       "\n",
       "                .geemap-dark .jupyter-button {\n",
       "                    --jp-layout-color3: #383838;\n",
       "                }\n",
       "\n",
       "                .geemap-colab {\n",
       "                    background-color: var(--colab-primary-surface-color, white);\n",
       "                }\n",
       "\n",
       "                .geemap-colab .jupyter-button {\n",
       "                    --jp-layout-color3: var(--colab-primary-surface-color, white);\n",
       "                }\n",
       "            </style>\n",
       "            "
      ],
      "text/plain": [
       "<IPython.core.display.HTML object>"
      ]
     },
     "metadata": {},
     "output_type": "display_data"
    },
    {
     "name": "stdout",
     "output_type": "stream",
     "text": [
      "{'type': 'Image', 'bands': [{'id': 'S1_VV', 'data_type': {'type': 'PixelType', 'precision': 'double'}, 'dimensions': [22592, 22451], 'origin': [89259, -322450], 'crs': 'EPSG:32635', 'crs_transform': [10, 0, 499980, 0, 10, 3000000]}, {'id': 'S1_VH', 'data_type': {'type': 'PixelType', 'precision': 'double'}, 'dimensions': [22592, 22451], 'origin': [89259, -322450], 'crs': 'EPSG:32635', 'crs_transform': [10, 0, 499980, 0, 10, 3000000]}, {'id': 'S2_NDVI', 'data_type': {'type': 'PixelType', 'precision': 'float', 'min': -1, 'max': 1}, 'dimensions': [22592, 22451], 'origin': [89259, -322450], 'crs': 'EPSG:32635', 'crs_transform': [10, 0, 499980, 0, 10, 3000000]}, {'id': 'ERA5_Temperature', 'data_type': {'type': 'PixelType', 'precision': 'double'}, 'dimensions': [22592, 22451], 'origin': [89259, -322450], 'crs': 'EPSG:32635', 'crs_transform': [10, 0, 499980, 0, 10, 3000000]}, {'id': 'Elevation', 'data_type': {'type': 'PixelType', 'precision': 'int', 'min': -32768, 'max': 32767}, 'dimensions': [1650, 1660], 'origin': [104012, -308323], 'crs': 'EPSG:32635', 'crs_transform': [10, 0, 499980, 0, 10, 3000000]}], 'properties': {'system:footprint': {'type': 'Polygon', 'coordinates': [[[36.306872504019424, -0.7423752404067301], [36.45206844566468, -0.7423752404067301], [36.45206844566468, -0.5952725839718056], [36.306872504019424, -0.5952725839718056], [36.306872504019424, -0.7423752404067301]]]}}}\n"
     ]
    }
   ],
   "source": [
    "# Stack all images into a single multi-band image (datacube)\n",
    "datacube = ee.Image.cat([s1, s2, era5, elevation]).rename([\n",
    "    'S1_VV', 'S1_VH',  # 2 bands from Sentinel-1\n",
    "    'S2_NDVI',  # 1 band from Sentinel-2\n",
    "    'ERA5_Temperature',  # 1 band from ERA5\n",
    "    'Elevation'  # 1 band from Elevation\n",
    "])\n",
    "\n",
    "# Print information about the final datacube\n",
    "print(datacube.getInfo())"
   ]
  },
  {
   "cell_type": "code",
   "execution_count": 15,
   "id": "925ace73-3ff2-43b1-a999-5506815df917",
   "metadata": {},
   "outputs": [
    {
     "data": {
      "text/html": [
       "\n",
       "            <style>\n",
       "                .geemap-dark {\n",
       "                    --jp-widgets-color: white;\n",
       "                    --jp-widgets-label-color: white;\n",
       "                    --jp-ui-font-color1: white;\n",
       "                    --jp-layout-color2: #454545;\n",
       "                    background-color: #383838;\n",
       "                }\n",
       "\n",
       "                .geemap-dark .jupyter-button {\n",
       "                    --jp-layout-color3: #383838;\n",
       "                }\n",
       "\n",
       "                .geemap-colab {\n",
       "                    background-color: var(--colab-primary-surface-color, white);\n",
       "                }\n",
       "\n",
       "                .geemap-colab .jupyter-button {\n",
       "                    --jp-layout-color3: var(--colab-primary-surface-color, white);\n",
       "                }\n",
       "            </style>\n",
       "            "
      ],
      "text/plain": [
       "<IPython.core.display.HTML object>"
      ]
     },
     "metadata": {},
     "output_type": "display_data"
    },
    {
     "name": "stdout",
     "output_type": "stream",
     "text": [
      "['S1_VV', 'S1_VH', 'S2_NDVI', 'ERA5_Temperature', 'Elevation']\n"
     ]
    }
   ],
   "source": [
    "print(datacube.bandNames().getInfo())"
   ]
  },
  {
   "cell_type": "code",
   "execution_count": 16,
   "id": "307a33dd-4544-48b2-88e2-a2d90a8973e7",
   "metadata": {},
   "outputs": [
    {
     "data": {
      "text/html": [
       "\n",
       "            <style>\n",
       "                .geemap-dark {\n",
       "                    --jp-widgets-color: white;\n",
       "                    --jp-widgets-label-color: white;\n",
       "                    --jp-ui-font-color1: white;\n",
       "                    --jp-layout-color2: #454545;\n",
       "                    background-color: #383838;\n",
       "                }\n",
       "\n",
       "                .geemap-dark .jupyter-button {\n",
       "                    --jp-layout-color3: #383838;\n",
       "                }\n",
       "\n",
       "                .geemap-colab {\n",
       "                    background-color: var(--colab-primary-surface-color, white);\n",
       "                }\n",
       "\n",
       "                .geemap-colab .jupyter-button {\n",
       "                    --jp-layout-color3: var(--colab-primary-surface-color, white);\n",
       "                }\n",
       "            </style>\n",
       "            "
      ],
      "text/plain": [
       "<IPython.core.display.HTML object>"
      ]
     },
     "metadata": {},
     "output_type": "display_data"
    }
   ],
   "source": [
    "# Convert all bands to Float32\n",
    "datacube = datacube.toFloat()"
   ]
  },
  {
   "cell_type": "code",
   "execution_count": 17,
   "id": "dd90c072-8f04-44e6-a3d0-1f4ea2e31f66",
   "metadata": {},
   "outputs": [
    {
     "data": {
      "text/html": [
       "\n",
       "            <style>\n",
       "                .geemap-dark {\n",
       "                    --jp-widgets-color: white;\n",
       "                    --jp-widgets-label-color: white;\n",
       "                    --jp-ui-font-color1: white;\n",
       "                    --jp-layout-color2: #454545;\n",
       "                    background-color: #383838;\n",
       "                }\n",
       "\n",
       "                .geemap-dark .jupyter-button {\n",
       "                    --jp-layout-color3: #383838;\n",
       "                }\n",
       "\n",
       "                .geemap-colab {\n",
       "                    background-color: var(--colab-primary-surface-color, white);\n",
       "                }\n",
       "\n",
       "                .geemap-colab .jupyter-button {\n",
       "                    --jp-layout-color3: var(--colab-primary-surface-color, white);\n",
       "                }\n",
       "            </style>\n",
       "            "
      ],
      "text/plain": [
       "<IPython.core.display.HTML object>"
      ]
     },
     "metadata": {},
     "output_type": "display_data"
    }
   ],
   "source": [
    "task = ee.batch.Export.image.toDrive(\n",
    "    image=datacube,\n",
    "    description='Unified_Datacube',\n",
    "    folder='EarthEngine_Exports',\n",
    "    fileNamePrefix='datacube',\n",
    "    region=datacube.geometry(),\n",
    "    scale=10,  # Use the highest resolution\n",
    "    crs='EPSG:32635',  # Ensure consistent CRS\n",
    "    fileFormat='GeoTIFF'\n",
    ")\n",
    "task.start()"
   ]
  },
  {
   "cell_type": "code",
   "execution_count": 18,
   "id": "e4dda274-ae9a-4666-b7f5-b717cb7454e6",
   "metadata": {},
   "outputs": [
    {
     "data": {
      "text/html": [
       "\n",
       "            <style>\n",
       "                .geemap-dark {\n",
       "                    --jp-widgets-color: white;\n",
       "                    --jp-widgets-label-color: white;\n",
       "                    --jp-ui-font-color1: white;\n",
       "                    --jp-layout-color2: #454545;\n",
       "                    background-color: #383838;\n",
       "                }\n",
       "\n",
       "                .geemap-dark .jupyter-button {\n",
       "                    --jp-layout-color3: #383838;\n",
       "                }\n",
       "\n",
       "                .geemap-colab {\n",
       "                    background-color: var(--colab-primary-surface-color, white);\n",
       "                }\n",
       "\n",
       "                .geemap-colab .jupyter-button {\n",
       "                    --jp-layout-color3: var(--colab-primary-surface-color, white);\n",
       "                }\n",
       "            </style>\n",
       "            "
      ],
      "text/plain": [
       "<IPython.core.display.HTML object>"
      ]
     },
     "metadata": {},
     "output_type": "display_data"
    },
    {
     "name": "stdout",
     "output_type": "stream",
     "text": [
      "Export is still running...\n",
      "Export is still running...\n",
      "Export is still running...\n",
      "Export is still running...\n",
      "Export is still running...\n",
      "Export is still running...\n",
      "Export is still running...\n",
      "Export is still running...\n",
      "Final Status: {'state': 'COMPLETED', 'description': 'Unified_Datacube', 'priority': 100, 'creation_timestamp_ms': 1740738657940, 'update_timestamp_ms': 1740738896991, 'start_timestamp_ms': 1740738669989, 'task_type': 'EXPORT_IMAGE', 'destination_uris': ['https://drive.google.com/#folders/1QPcSpY-oTJMF4NpdErmf6XpcBQW6hk3Q'], 'attempt': 1, 'batch_eecu_usage_seconds': 468.0362854003906, 'id': '63M22O4XIEACCPYLL4LTLT5U', 'name': 'projects/earthengine-legacy/operations/63M22O4XIEACCPYLL4LTLT5U'}\n"
     ]
    }
   ],
   "source": [
    "import time\n",
    "\n",
    "while task.active():\n",
    "    print(\"Export is still running...\")\n",
    "    time.sleep(30)  # Check every 30 seconds\n",
    "\n",
    "print(\"Final Status:\", task.status())"
   ]
  },
  {
   "cell_type": "markdown",
   "id": "08c7df71-9c55-4185-80fd-3cafb6f5f7a9",
   "metadata": {},
   "source": [
    "Once downloaded i read and convert to NetCDF "
   ]
  },
  {
   "cell_type": "code",
   "execution_count": 19,
   "id": "3871e532-cccc-4a92-a58a-b35a09094237",
   "metadata": {
    "scrolled": true
   },
   "outputs": [
    {
     "data": {
      "text/html": [
       "\n",
       "            <style>\n",
       "                .geemap-dark {\n",
       "                    --jp-widgets-color: white;\n",
       "                    --jp-widgets-label-color: white;\n",
       "                    --jp-ui-font-color1: white;\n",
       "                    --jp-layout-color2: #454545;\n",
       "                    background-color: #383838;\n",
       "                }\n",
       "\n",
       "                .geemap-dark .jupyter-button {\n",
       "                    --jp-layout-color3: #383838;\n",
       "                }\n",
       "\n",
       "                .geemap-colab {\n",
       "                    background-color: var(--colab-primary-surface-color, white);\n",
       "                }\n",
       "\n",
       "                .geemap-colab .jupyter-button {\n",
       "                    --jp-layout-color3: var(--colab-primary-surface-color, white);\n",
       "                }\n",
       "            </style>\n",
       "            "
      ],
      "text/plain": [
       "<IPython.core.display.HTML object>"
      ]
     },
     "metadata": {},
     "output_type": "display_data"
    },
    {
     "name": "stdout",
     "output_type": "stream",
     "text": [
      "<xarray.DataArray (band: 5, y: 1653, x: 1642)> Size: 54MB\n",
      "[13571130 values with dtype=float32]\n",
      "Coordinates:\n",
      "  * band         (band) int32 20B 1 2 3 4 5\n",
      "  * x            (x) float64 13kB 1.54e+06 1.54e+06 ... 1.557e+06 1.557e+06\n",
      "  * y            (y) float64 13kB -6.668e+04 -6.668e+04 ... -8.318e+04 -8.32e+04\n",
      "    spatial_ref  int32 4B 0\n",
      "Attributes:\n",
      "    AREA_OR_POINT:  Area\n",
      "    scale_factor:   1.0\n",
      "    add_offset:     0.0\n",
      "    long_name:      ('S1_VV', 'S1_VH', 'S2_NDVI', 'ERA5_Temperature', 'Elevat...\n",
      "{'AREA_OR_POINT': 'Area', 'scale_factor': 1.0, 'add_offset': 0.0, 'long_name': ('S1_VV', 'S1_VH', 'S2_NDVI', 'ERA5_Temperature', 'Elevation')}\n"
     ]
    }
   ],
   "source": [
    "import rioxarray as rxr\n",
    "\n",
    "# Open the raster dataset\n",
    "datacube_xr = rxr.open_rasterio(\"datacube.tif\")\n",
    "\n",
    "# Print dataset details\n",
    "print(datacube_xr)\n",
    "print(datacube_xr.attrs)  # Check for any non-standard attributes"
   ]
  },
  {
   "cell_type": "code",
   "execution_count": 24,
   "id": "0d9eb691-88a9-4c43-9193-e6f20c960180",
   "metadata": {},
   "outputs": [
    {
     "data": {
      "text/html": [
       "\n",
       "            <style>\n",
       "                .geemap-dark {\n",
       "                    --jp-widgets-color: white;\n",
       "                    --jp-widgets-label-color: white;\n",
       "                    --jp-ui-font-color1: white;\n",
       "                    --jp-layout-color2: #454545;\n",
       "                    background-color: #383838;\n",
       "                }\n",
       "\n",
       "                .geemap-dark .jupyter-button {\n",
       "                    --jp-layout-color3: #383838;\n",
       "                }\n",
       "\n",
       "                .geemap-colab {\n",
       "                    background-color: var(--colab-primary-surface-color, white);\n",
       "                }\n",
       "\n",
       "                .geemap-colab .jupyter-button {\n",
       "                    --jp-layout-color3: var(--colab-primary-surface-color, white);\n",
       "                }\n",
       "            </style>\n",
       "            "
      ],
      "text/plain": [
       "<IPython.core.display.HTML object>"
      ]
     },
     "metadata": {},
     "output_type": "display_data"
    }
   ],
   "source": [
    "# Remove problematic attributes\n",
    "datacube_xr.attrs = {}  # Clears global attributes\n",
    "for var in datacube_xr.variables:\n",
    "    datacube[var].attrs = {}  # Clears attributes for each variable\n",
    "\n",
    "# Save again\n",
    "datacube_xr.to_netcdf(\"geospatial_datacube.nc\")"
   ]
  },
  {
   "cell_type": "code",
   "execution_count": 25,
   "id": "f71fb253-f1f0-4c94-ba4c-0a5203045242",
   "metadata": {},
   "outputs": [
    {
     "data": {
      "text/html": [
       "\n",
       "            <style>\n",
       "                .geemap-dark {\n",
       "                    --jp-widgets-color: white;\n",
       "                    --jp-widgets-label-color: white;\n",
       "                    --jp-ui-font-color1: white;\n",
       "                    --jp-layout-color2: #454545;\n",
       "                    background-color: #383838;\n",
       "                }\n",
       "\n",
       "                .geemap-dark .jupyter-button {\n",
       "                    --jp-layout-color3: #383838;\n",
       "                }\n",
       "\n",
       "                .geemap-colab {\n",
       "                    background-color: var(--colab-primary-surface-color, white);\n",
       "                }\n",
       "\n",
       "                .geemap-colab .jupyter-button {\n",
       "                    --jp-layout-color3: var(--colab-primary-surface-color, white);\n",
       "                }\n",
       "            </style>\n",
       "            "
      ],
      "text/plain": [
       "<IPython.core.display.HTML object>"
      ]
     },
     "metadata": {},
     "output_type": "display_data"
    },
    {
     "name": "stdout",
     "output_type": "stream",
     "text": [
      "<xarray.Dataset> Size: 54MB\n",
      "Dimensions:      (y: 1653, x: 1642, band: 5)\n",
      "Coordinates:\n",
      "  * y            (y) float64 13kB -6.668e+04 -6.668e+04 ... -8.318e+04 -8.32e+04\n",
      "  * x            (x) float64 13kB 1.54e+06 1.54e+06 ... 1.557e+06 1.557e+06\n",
      "  * band         (band) int32 20B 1 2 3 4 5\n",
      "Data variables:\n",
      "    datacube     (band, y, x) float32 54MB ...\n",
      "    spatial_ref  int32 4B ...\n"
     ]
    }
   ],
   "source": [
    "ds = xr.open_dataset(\"geospatial_datacube.nc\")\n",
    "print(ds)\n",
    "ds.close()"
   ]
  },
  {
   "cell_type": "markdown",
   "id": "53b4858c-4918-4660-8ff6-cb88e1e4c6e4",
   "metadata": {},
   "source": [
    "DONE!"
   ]
  },
  {
   "cell_type": "code",
   "execution_count": null,
   "id": "5303581c-33e8-47b0-acb0-6c3661a59527",
   "metadata": {},
   "outputs": [],
   "source": []
  }
 ],
 "metadata": {
  "kernelspec": {
   "display_name": "Python 3 (ipykernel)",
   "language": "python",
   "name": "python3"
  },
  "language_info": {
   "codemirror_mode": {
    "name": "ipython",
    "version": 3
   },
   "file_extension": ".py",
   "mimetype": "text/x-python",
   "name": "python",
   "nbconvert_exporter": "python",
   "pygments_lexer": "ipython3",
   "version": "3.12.3"
  }
 },
 "nbformat": 4,
 "nbformat_minor": 5
}
